{
 "cells": [
  {
   "cell_type": "markdown",
   "metadata": {
    "collapsed": true
   },
   "source": [
    "# My Jupyter Notebook on IBM Watson Studio"
   ]
  },
  {
   "cell_type": "markdown",
   "metadata": {},
   "source": [
    "**WEAAM ABDELAZIZ**\n",
    "Architect"
   ]
  },
  {
   "cell_type": "markdown",
   "metadata": {},
   "source": [
    "*I am interested in data science because Most businesses these days rely heavily on data science. The data science field is growing quickly, and Although the demand for data scientists is high, so is the competition, and I like challenge."
   ]
  },
  {
   "cell_type": "markdown",
   "metadata": {},
   "source": [
    "### Solve a simple linear equation"
   ]
  },
  {
   "cell_type": "code",
   "execution_count": 24,
   "metadata": {
    "scrolled": true
   },
   "outputs": [
    {
     "name": "stdout",
     "output_type": "stream",
     "text": [
      "6\n"
     ]
    }
   ],
   "source": [
    "x = 1\n",
    "y = 5\n",
    "c = x + y\n",
    "print (c)"
   ]
  },
  {
   "cell_type": "markdown",
   "metadata": {},
   "source": [
    "\n",
    "| Health  |Minimum Fasting V.| MaximumFasting V.|2 hrs After eating|\n",
    "|---------|------------------|------------------|------------------|\n",
    "| Healthy |        70        |       100        | less-than 140    |\n",
    "|---------|------------------|------------------|------------------|\n",
    "|Pre-diab.|      101         |       126        |     140-200      |\n",
    "|---------|------------------|------------------|------------------|\n",
    "|Diabetes | more than 126    |       N/A        |  More-than 200   |\n",
    "|----------|-------------------|-------------------|-------------------|\n",
    "---\n",
    "### Diabetes Symptoms:\n",
    " 1. Urinate (pee) a lot, often at night.\n",
    " 2. Are very thirsty.\n",
    " 3. Lose weight without trying.\n",
    " 4. Are very hungry.\n",
    " 5. Have blurry vision.\n",
    " 6. Have numb or tingling hands or feet.\n",
    " 7. Feel very tired.\n",
    " 8. Have very dry skin."
   ]
  }
 ],
 "metadata": {
  "kernelspec": {
   "display_name": "Python 3.10",
   "language": "python",
   "name": "python3"
  },
  "language_info": {
   "codemirror_mode": {
    "name": "ipython",
    "version": 3
   },
   "file_extension": ".py",
   "mimetype": "text/x-python",
   "name": "python",
   "nbconvert_exporter": "python",
   "pygments_lexer": "ipython3",
   "version": "3.10.6"
  }
 },
 "nbformat": 4,
 "nbformat_minor": 1
}
